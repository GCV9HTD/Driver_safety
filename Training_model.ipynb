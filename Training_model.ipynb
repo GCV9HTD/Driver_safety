{
 "cells": [
  {
   "cell_type": "code",
   "execution_count": 1,
   "metadata": {},
   "outputs": [
    {
     "name": "stderr",
     "output_type": "stream",
     "text": [
      "Using TensorFlow backend.\n"
     ]
    }
   ],
   "source": [
    "from keras.models import Sequential\n",
    "from keras.layers import Dense,Conv2D,Dropout,MaxPooling2D,Flatten\n",
    "from keras.preprocessing.image import ImageDataGenerator\n",
    "import cv2"
   ]
  },
  {
   "cell_type": "code",
   "execution_count": 2,
   "metadata": {},
   "outputs": [],
   "source": [
    "img_gen = ImageDataGenerator(validation_split=0.3,rescale=1/255)"
   ]
  },
  {
   "cell_type": "code",
   "execution_count": 3,
   "metadata": {},
   "outputs": [
    {
     "data": {
      "text/plain": [
       "(100, 100, 3)"
      ]
     },
     "execution_count": 3,
     "metadata": {},
     "output_type": "execute_result"
    }
   ],
   "source": [
    "img = cv2.imread(\"eyes/ClosedFace/closed_eye_0001.jpg_face_1.jpg\")\n",
    "img.shape"
   ]
  },
  {
   "cell_type": "code",
   "execution_count": 4,
   "metadata": {},
   "outputs": [
    {
     "name": "stdout",
     "output_type": "stream",
     "text": [
      "WARNING:tensorflow:From /home/deadlock20000/.local/lib/python3.6/site-packages/tensorflow/python/framework/op_def_library.py:263: colocate_with (from tensorflow.python.framework.ops) is deprecated and will be removed in a future version.\n",
      "Instructions for updating:\n",
      "Colocations handled automatically by placer.\n",
      "WARNING:tensorflow:From /home/deadlock20000/.local/lib/python3.6/site-packages/keras/backend/tensorflow_backend.py:3445: calling dropout (from tensorflow.python.ops.nn_ops) with keep_prob is deprecated and will be removed in a future version.\n",
      "Instructions for updating:\n",
      "Please use `rate` instead of `keep_prob`. Rate should be set to `rate = 1 - keep_prob`.\n"
     ]
    }
   ],
   "source": [
    "model = Sequential()\n",
    "model.add(Conv2D(128,(3,3),input_shape=(100,100,3),activation=\"relu\"))\n",
    "model.add(MaxPooling2D((2,2)))\n",
    "model.add(Conv2D(64,(3,3),activation=\"relu\"))\n",
    "model.add(MaxPooling2D((2,2)))\n",
    "model.add(Dropout(.4))\n",
    "model.add(Conv2D(32,(3,3),activation=\"relu\"))\n",
    "model.add(MaxPooling2D((2,2)))\n",
    "model.add(Flatten())\n",
    "model.add(Dense(1000,activation=\"relu\"))\n",
    "model.add(Dropout(.4))\n",
    "model.add(Dense(128,activation=\"relu\"))\n",
    "model.add(Dropout(.4))\n",
    "model.add(Dense(32,activation=\"relu\"))\n",
    "model.add(Dropout(.4))\n",
    "model.add(Dense(2,activation=\"sigmoid\"))\n"
   ]
  },
  {
   "cell_type": "code",
   "execution_count": 5,
   "metadata": {},
   "outputs": [
    {
     "name": "stdout",
     "output_type": "stream",
     "text": [
      "_________________________________________________________________\n",
      "Layer (type)                 Output Shape              Param #   \n",
      "=================================================================\n",
      "conv2d_1 (Conv2D)            (None, 98, 98, 128)       3584      \n",
      "_________________________________________________________________\n",
      "max_pooling2d_1 (MaxPooling2 (None, 49, 49, 128)       0         \n",
      "_________________________________________________________________\n",
      "conv2d_2 (Conv2D)            (None, 47, 47, 64)        73792     \n",
      "_________________________________________________________________\n",
      "max_pooling2d_2 (MaxPooling2 (None, 23, 23, 64)        0         \n",
      "_________________________________________________________________\n",
      "dropout_1 (Dropout)          (None, 23, 23, 64)        0         \n",
      "_________________________________________________________________\n",
      "conv2d_3 (Conv2D)            (None, 21, 21, 32)        18464     \n",
      "_________________________________________________________________\n",
      "max_pooling2d_3 (MaxPooling2 (None, 10, 10, 32)        0         \n",
      "_________________________________________________________________\n",
      "flatten_1 (Flatten)          (None, 3200)              0         \n",
      "_________________________________________________________________\n",
      "dense_1 (Dense)              (None, 1000)              3201000   \n",
      "_________________________________________________________________\n",
      "dropout_2 (Dropout)          (None, 1000)              0         \n",
      "_________________________________________________________________\n",
      "dense_2 (Dense)              (None, 128)               128128    \n",
      "_________________________________________________________________\n",
      "dropout_3 (Dropout)          (None, 128)               0         \n",
      "_________________________________________________________________\n",
      "dense_3 (Dense)              (None, 32)                4128      \n",
      "_________________________________________________________________\n",
      "dropout_4 (Dropout)          (None, 32)                0         \n",
      "_________________________________________________________________\n",
      "dense_4 (Dense)              (None, 2)                 66        \n",
      "=================================================================\n",
      "Total params: 3,429,162\n",
      "Trainable params: 3,429,162\n",
      "Non-trainable params: 0\n",
      "_________________________________________________________________\n"
     ]
    }
   ],
   "source": [
    "model.summary()"
   ]
  },
  {
   "cell_type": "code",
   "execution_count": 6,
   "metadata": {},
   "outputs": [],
   "source": [
    "model.compile(optimizer=\"adam\",loss=\"binary_crossentropy\",metrics=[\"accuracy\"])"
   ]
  },
  {
   "cell_type": "code",
   "execution_count": 11,
   "metadata": {},
   "outputs": [
    {
     "name": "stdout",
     "output_type": "stream",
     "text": [
      "Found 2423 images belonging to 2 classes.\n"
     ]
    }
   ],
   "source": [
    "train_image_gen = img_gen.flow_from_directory(\"eyes\",target_size=(100,100),batch_size=15)"
   ]
  },
  {
   "cell_type": "code",
   "execution_count": 12,
   "metadata": {},
   "outputs": [
    {
     "name": "stdout",
     "output_type": "stream",
     "text": [
      "{'ClosedFace': 0, 'OpenFace': 1}\n"
     ]
    }
   ],
   "source": [
    "print(train_image_gen.class_indices)"
   ]
  },
  {
   "cell_type": "code",
   "execution_count": 14,
   "metadata": {},
   "outputs": [
    {
     "name": "stdout",
     "output_type": "stream",
     "text": [
      "Epoch 1/20\n",
      "400/400 [==============================] - 248s 620ms/step - loss: 0.6481 - acc: 0.6288\n",
      "Epoch 2/20\n",
      "400/400 [==============================] - 272s 681ms/step - loss: 0.6138 - acc: 0.6650\n",
      "Epoch 3/20\n",
      "400/400 [==============================] - 244s 609ms/step - loss: 0.5262 - acc: 0.7477\n",
      "Epoch 4/20\n",
      "400/400 [==============================] - 271s 678ms/step - loss: 0.3700 - acc: 0.8446\n",
      "Epoch 5/20\n",
      "400/400 [==============================] - 211s 526ms/step - loss: 0.2636 - acc: 0.8908\n",
      "Epoch 6/20\n",
      "400/400 [==============================] - 207s 518ms/step - loss: 0.1953 - acc: 0.9232\n",
      "Epoch 7/20\n",
      "400/400 [==============================] - 212s 530ms/step - loss: 0.1399 - acc: 0.9481\n",
      "Epoch 8/20\n",
      "400/400 [==============================] - 214s 535ms/step - loss: 0.1138 - acc: 0.9592\n",
      "Epoch 9/20\n",
      "400/400 [==============================] - 219s 548ms/step - loss: 0.0855 - acc: 0.9692\n",
      "Epoch 10/20\n",
      "400/400 [==============================] - 218s 544ms/step - loss: 0.0882 - acc: 0.9723\n",
      "Epoch 11/20\n",
      "400/400 [==============================] - 217s 542ms/step - loss: 0.0711 - acc: 0.9779\n",
      "Epoch 12/20\n",
      "400/400 [==============================] - 218s 544ms/step - loss: 0.0672 - acc: 0.9787\n",
      "Epoch 13/20\n",
      "400/400 [==============================] - 215s 536ms/step - loss: 0.0440 - acc: 0.9854\n",
      "Epoch 14/20\n",
      "400/400 [==============================] - 235s 587ms/step - loss: 0.0343 - acc: 0.9891\n",
      "Epoch 15/20\n",
      "400/400 [==============================] - 276s 691ms/step - loss: 0.0336 - acc: 0.9897\n",
      "Epoch 16/20\n",
      "400/400 [==============================] - 249s 622ms/step - loss: 0.0402 - acc: 0.9877\n",
      "Epoch 17/20\n",
      "400/400 [==============================] - 264s 660ms/step - loss: 0.0328 - acc: 0.9895\n",
      "Epoch 18/20\n",
      "400/400 [==============================] - 265s 662ms/step - loss: 0.0284 - acc: 0.9906\n",
      "Epoch 19/20\n",
      "400/400 [==============================] - 229s 572ms/step - loss: 0.0359 - acc: 0.9901\n",
      "Epoch 20/20\n",
      "400/400 [==============================] - 245s 612ms/step - loss: 0.0248 - acc: 0.9932\n"
     ]
    }
   ],
   "source": [
    "results = model.fit_generator(train_image_gen,epochs=20,steps_per_epoch=400)\n"
   ]
  },
  {
   "cell_type": "code",
   "execution_count": 15,
   "metadata": {},
   "outputs": [],
   "source": [
    "model.save(\"eyes1.h5\")\n"
   ]
  },
  {
   "cell_type": "code",
   "execution_count": null,
   "metadata": {},
   "outputs": [],
   "source": []
  }
 ],
 "metadata": {
  "kernelspec": {
   "display_name": "Python 3",
   "language": "python",
   "name": "python3"
  },
  "language_info": {
   "codemirror_mode": {
    "name": "ipython",
    "version": 3
   },
   "file_extension": ".py",
   "mimetype": "text/x-python",
   "name": "python",
   "nbconvert_exporter": "python",
   "pygments_lexer": "ipython3",
   "version": "3.6.7"
  }
 },
 "nbformat": 4,
 "nbformat_minor": 2
}
